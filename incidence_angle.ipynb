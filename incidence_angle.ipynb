{
 "cells": [
  {
   "cell_type": "markdown",
   "id": "ad9bcba7",
   "metadata": {},
   "source": [
    "## Purpose:\n",
    "Notebook to generate HDR file as environment for .inc files. Therefore, we can open the .inc files\n",
    "\n",
    "Needs:\n",
    "- `(.inc)` incidence angle image\n",
    "- `(.ann)` annotation file\n",
    "\n",
    "Data could be downloaded from \n",
    "- [UAVSAR](https://uavsar.jpl.nasa.gov/cgi-bin/data.pl)\n",
    "- [Alaska Satellite Facility](https://search.asf.alaska.edu/#/?dataset=UAVSAR)"
   ]
  },
  {
   "cell_type": "code",
   "execution_count": 1,
   "id": "a0129f3d-2b65-4470-b421-e219e4722bd6",
   "metadata": {},
   "outputs": [],
   "source": [
    "# Path to the python folder of UAVSAR-Radiometric-Calibration directory\n",
    "path_RC_python = '/Users/krismannino/Code/CADS/IMPACT/uavsar-wildfire-rtc/python'\n",
    "import sys\n",
    "sys.path.append(path_RC_python)"
   ]
  },
  {
   "cell_type": "code",
   "execution_count": 2,
   "id": "70234c7c-9d60-4ffd-8db6-dacc9363e0c1",
   "metadata": {},
   "outputs": [],
   "source": [
    "from buildUAVSARhdr import genHDRfromTXT\n",
    "from pathlib import Path"
   ]
  },
  {
   "cell_type": "code",
   "execution_count": 4,
   "id": "3bf80ff2-ad9b-4c22-8b1a-ed3ddf937617",
   "metadata": {},
   "outputs": [],
   "source": [
    "# Path to the folder with the cropped images\n",
    "data_dir = Path('/Volumes/BlackT7/bobcat_flight_paths')\n",
    "inc = sorted(list(data_dir.rglob('./*.inc')))\n",
    "ann = sorted(list(data_dir.rglob('./*.ann')))\n",
    "\n",
    "# Adjust this each time for unvwanted filenames\n",
    "\n",
    "cut_words = [\"rtc_corrected_output\",\n",
    "             \"08527\",\n",
    "             \"08525\"\n",
    "            ]\n",
    "\n",
    "cut_incs = [i for i in inc if not any(cut_word in str(i) for cut_word in cut_words)]\n",
    "# print(cut_incs)\n",
    "inc = cut_incs\n",
    "\n",
    "cut_anns = [a for a in ann if not any(cut_word in str(a) for cut_word in cut_words)]\n",
    "# print(cut_incs)\n",
    "ann = cut_anns"
   ]
  },
  {
   "cell_type": "code",
   "execution_count": 5,
   "id": "2c1bbb4d-53c2-45c6-8395-e6d3a839c14d",
   "metadata": {},
   "outputs": [
    {
     "name": "stdout",
     "output_type": "stream",
     "text": [
      "/Volumes/BlackT7/bobcat_flight_paths/SanAnd_26526_18076_002_181011_L090_CX_01/SanAnd_26526_18076_002_181011_L090_CX_01.inc\n",
      "/Volumes/BlackT7/bobcat_flight_paths/SanAnd_26526_21065_013_211117_L090_CX_01/SanAnd_26526_21065_013_211117_L090_CX_01.inc\n"
     ]
    }
   ],
   "source": [
    "print(*inc, sep=\"\\n\")"
   ]
  },
  {
   "cell_type": "code",
   "execution_count": 6,
   "id": "719395f0-0c27-46c3-8ffc-0ec951d4e259",
   "metadata": {},
   "outputs": [
    {
     "name": "stdout",
     "output_type": "stream",
     "text": [
      "/Volumes/BlackT7/bobcat_flight_paths/SanAnd_26526_18076_002_181011_L090_CX_01/SanAnd_26526_18076_002_181011_L090_CX_01.ann\n",
      "/Volumes/BlackT7/bobcat_flight_paths/SanAnd_26526_21065_013_211117_L090_CX_01/SanAnd_26526_21065_013_211117_L090_CX_01.ann\n"
     ]
    }
   ],
   "source": [
    "print(*ann, sep=\"\\n\")"
   ]
  },
  {
   "cell_type": "code",
   "execution_count": 23,
   "id": "cdc4d0ea-a7d9-43bd-afde-0578341167b2",
   "metadata": {},
   "outputs": [],
   "source": [
    "# could be any\n",
    "pol = \"HVHV\""
   ]
  },
  {
   "cell_type": "code",
   "execution_count": 24,
   "id": "d8a10f39-a856-486d-b11e-edbf1f9c9ea8",
   "metadata": {},
   "outputs": [
    {
     "name": "stdout",
     "output_type": "stream",
     "text": [
      "SAMPLES = 7317\n",
      "LINES = 57278\n",
      "UPPER LEFT LAT = 34.438977120000004\n",
      "UPPER LEFT LONG = -119.28354192\n",
      "PIXEL LAT SIZE = 5.556e-05\n",
      "PIXEL LONG SIZE = 5.556e-05\n",
      "DATATYPE = 4\n",
      "Writing output HDR file...\n",
      "Output HDR file = /Volumes/BlackT7/bobcat_flight_paths/SanAnd_08525_18076_003_181011_L090_CX_01/SanAnd_08525_18076_003_181011_L090_CX_01.inc.hdr\n",
      "\n",
      "Thank you for using UAVSAR.py\n",
      "\n",
      "SAMPLES = 7317\n",
      "LINES = 57277\n",
      "UPPER LEFT LAT = 34.438977120000004\n",
      "UPPER LEFT LONG = -119.28293076000001\n",
      "PIXEL LAT SIZE = 5.556e-05\n",
      "PIXEL LONG SIZE = 5.556e-05\n",
      "DATATYPE = 4\n",
      "Writing output HDR file...\n",
      "Output HDR file = /Volumes/BlackT7/bobcat_flight_paths/SanAnd_08525_20026_016_200918_L090_CX_01/SanAnd_08525_20026_016_200918_L090_CX_01.inc.hdr\n",
      "\n",
      "Thank you for using UAVSAR.py\n",
      "\n",
      "SAMPLES = 7316\n",
      "LINES = 57240\n",
      "UPPER LEFT LAT = 34.438921560000004\n",
      "UPPER LEFT LONG = -119.28165288000001\n",
      "PIXEL LAT SIZE = 5.556e-05\n",
      "PIXEL LONG SIZE = 5.556e-05\n",
      "DATATYPE = 4\n",
      "Writing output HDR file...\n",
      "Output HDR file = /Volumes/BlackT7/bobcat_flight_paths/SanAnd_08525_20029_006_201015_L090_CX_01/SanAnd_08525_20029_006_201015_L090_CX_01.inc.hdr\n",
      "\n",
      "Thank you for using UAVSAR.py\n",
      "\n",
      "SAMPLES = 7360\n",
      "LINES = 58132\n",
      "UPPER LEFT LAT = 34.44086616\n",
      "UPPER LEFT LONG = -119.29020912000001\n",
      "PIXEL LAT SIZE = 5.556e-05\n",
      "PIXEL LONG SIZE = 5.556e-05\n",
      "DATATYPE = 4\n",
      "Writing output HDR file...\n",
      "Output HDR file = /Volumes/BlackT7/bobcat_flight_paths/SanAnd_08525_21041_007_210526_L090_CX_01/SanAnd_08525_21041_007_210526_L090_CX_01.inc.hdr\n",
      "\n",
      "Thank you for using UAVSAR.py\n",
      "\n",
      "SAMPLES = 7377\n",
      "LINES = 58436\n",
      "UPPER LEFT LAT = 34.441310640000005\n",
      "UPPER LEFT LONG = -119.29748748\n",
      "PIXEL LAT SIZE = 5.556e-05\n",
      "PIXEL LONG SIZE = 5.556e-05\n",
      "DATATYPE = 4\n",
      "Writing output HDR file...\n",
      "Output HDR file = /Volumes/BlackT7/bobcat_flight_paths/SanAnd_08525_21065_014_211117_L090_CX_01/SanAnd_08525_21065_014_211117_L090_CX_01.inc.hdr\n",
      "\n",
      "Thank you for using UAVSAR.py\n",
      "\n",
      "SAMPLES = 5869\n",
      "LINES = 31591\n",
      "UPPER LEFT LAT = 34.51392756\n",
      "UPPER LEFT LONG = -119.50939332\n",
      "PIXEL LAT SIZE = 5.556e-05\n",
      "PIXEL LONG SIZE = 5.556e-05\n",
      "DATATYPE = 4\n",
      "Writing output HDR file...\n",
      "Output HDR file = /Volumes/BlackT7/bobcat_flight_paths/SanAnd_08527_18001_010_180205_L090_CX_01/SanAnd_08527_18001_010_180205_L090_CX_01.inc.hdr\n",
      "\n",
      "Thank you for using UAVSAR.py\n",
      "\n",
      "SAMPLES = 7276\n",
      "LINES = 58258\n",
      "UPPER LEFT LAT = 34.59204492\n",
      "UPPER LEFT LONG = -119.50917108\n",
      "PIXEL LAT SIZE = 5.556e-05\n",
      "PIXEL LONG SIZE = 5.556e-05\n",
      "DATATYPE = 4\n",
      "Writing output HDR file...\n",
      "Output HDR file = /Volumes/BlackT7/bobcat_flight_paths/SanAnd_08527_20026_014_200918_L090_CX_01/SanAnd_08527_20026_014_200918_L090_CX_01.inc.hdr\n",
      "\n",
      "Thank you for using UAVSAR.py\n",
      "\n",
      "SAMPLES = 7274\n",
      "LINES = 58203\n",
      "UPPER LEFT LAT = 34.59198936\n",
      "UPPER LEFT LONG = -119.50789320000001\n",
      "PIXEL LAT SIZE = 5.556e-05\n",
      "PIXEL LONG SIZE = 5.556e-05\n",
      "DATATYPE = 4\n",
      "Writing output HDR file...\n",
      "Output HDR file = /Volumes/BlackT7/bobcat_flight_paths/SanAnd_08527_20029_004_201014_L090_CX_01/SanAnd_08527_20029_004_201014_L090_CX_01.inc.hdr\n",
      "\n",
      "Thank you for using UAVSAR.py\n",
      "\n",
      "SAMPLES = 9066\n",
      "LINES = 58271\n",
      "UPPER LEFT LAT = 34.554930840000004\n",
      "UPPER LEFT LONG = -119.29137588\n",
      "PIXEL LAT SIZE = 5.556e-05\n",
      "PIXEL LONG SIZE = 5.556e-05\n",
      "DATATYPE = 4\n",
      "Writing output HDR file...\n",
      "Output HDR file = /Volumes/BlackT7/bobcat_flight_paths/SanAnd_26526_18076_002_181011_L090_CX_01/SanAnd_26526_18076_002_181011_L090_CX_01.inc.hdr\n",
      "\n",
      "Thank you for using UAVSAR.py\n",
      "\n",
      "SAMPLES = 9062\n",
      "LINES = 59111\n",
      "UPPER LEFT LAT = 34.5505416\n",
      "UPPER LEFT LONG = -119.33332368\n",
      "PIXEL LAT SIZE = 5.556e-05\n",
      "PIXEL LONG SIZE = 5.556e-05\n",
      "DATATYPE = 4\n",
      "Writing output HDR file...\n",
      "Output HDR file = /Volumes/BlackT7/bobcat_flight_paths/SanAnd_26526_21065_013_211117_L090_CX_01/SanAnd_26526_21065_013_211117_L090_CX_01.inc.hdr\n",
      "\n",
      "Thank you for using UAVSAR.py\n",
      "\n"
     ]
    }
   ],
   "source": [
    "for i in range(len(ann)):\n",
    "    genHDRfromTXT(str(ann[i]), str(inc[i]), pol)"
   ]
  },
  {
   "cell_type": "code",
   "execution_count": null,
   "id": "6a1ca516-4971-40c8-bf52-4b140c99463d",
   "metadata": {},
   "outputs": [],
   "source": []
  }
 ],
 "metadata": {
  "kernelspec": {
   "display_name": "Python 3 (ipykernel)",
   "language": "python",
   "name": "python3"
  },
  "language_info": {
   "codemirror_mode": {
    "name": "ipython",
    "version": 3
   },
   "file_extension": ".py",
   "mimetype": "text/x-python",
   "name": "python",
   "nbconvert_exporter": "python",
   "pygments_lexer": "ipython3",
   "version": "3.12.7"
  }
 },
 "nbformat": 4,
 "nbformat_minor": 5
}
