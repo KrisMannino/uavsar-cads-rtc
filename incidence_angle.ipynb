{
 "cells": [
  {
   "cell_type": "markdown",
   "id": "ad9bcba7",
   "metadata": {},
   "source": [
    "## Purpose:\n",
    "Notebook to generate HDR file as environment for .inc files. Therefore, we can open the .inc files\n",
    "\n",
    "Needs:\n",
    "- `(.inc)` incidence angle image\n",
    "- `(.ann)` annotation file\n",
    "\n",
    "Data could be downloaded from \n",
    "- [UAVSAR](https://uavsar.jpl.nasa.gov/cgi-bin/data.pl)\n",
    "- [Alaska Satellite Facility](https://search.asf.alaska.edu/#/?dataset=UAVSAR)"
   ]
  },
  {
   "cell_type": "code",
   "execution_count": 1,
   "id": "a0129f3d-2b65-4470-b421-e219e4722bd6",
   "metadata": {},
   "outputs": [],
   "source": [
    "# Path to the python folder of UAVSAR-Radiometric-Calibration directory\n",
    "path_RC_python = '/Users/wentaolin/Desktop/Radiometric_Terrain_Correction/python'\n",
    "import sys\n",
    "sys.path.append(path_RC_python)"
   ]
  },
  {
   "cell_type": "code",
   "execution_count": 2,
   "id": "70234c7c-9d60-4ffd-8db6-dacc9363e0c1",
   "metadata": {},
   "outputs": [],
   "source": [
    "from buildUAVSARhdr import genHDRfromTXT\n",
    "from pathlib import Path"
   ]
  },
  {
   "cell_type": "code",
   "execution_count": 3,
   "id": "3bf80ff2-ad9b-4c22-8b1a-ed3ddf937617",
   "metadata": {},
   "outputs": [],
   "source": [
    "# Path to the folder with the cropped images\n",
    "data_dir = Path('data/bobcat')\n",
    "inc = sorted(list(data_dir.rglob('./*.inc')))\n",
    "ann = sorted(list(data_dir.rglob('./*.ann')))"
   ]
  },
  {
   "cell_type": "code",
   "execution_count": 4,
   "id": "2c1bbb4d-53c2-45c6-8395-e6d3a839c14d",
   "metadata": {},
   "outputs": [
    {
     "data": {
      "text/plain": [
       "[PosixPath('data/bobcat/SanAnd_08525_18076_003_181011_L090_CX_01/SanAnd_08525_18076_003_181011_L090_CX_01.inc'),\n",
       " PosixPath('data/bobcat/SanAnd_08525_21065_014_211117_L090_CX_01/SanAnd_08525_21065_014_211117_L090_CX_01.inc'),\n",
       " PosixPath('data/bobcat/SanAnd_08527_18001_010_180205_L090_CX_01/SanAnd_08527_18001_010_180205_L090_CX_01.inc'),\n",
       " PosixPath('data/bobcat/SanAnd_08527_20029_004_201014_L090_CX_01/SanAnd_08527_20029_004_201014_L090_CX_01.inc'),\n",
       " PosixPath('data/bobcat/SanAnd_26526_18076_002_181011_L090_CX_01/SanAnd_26526_18076_002_181011_L090_CX_01.inc'),\n",
       " PosixPath('data/bobcat/SanAnd_26526_21065_013_211117_L090_CX_01/SanAnd_26526_21065_013_211117_L090_CX_01.inc'),\n",
       " PosixPath('data/bobcat/SanAnd_26528_18001_009_180205_L090_CX_01/SanAnd_26528_18001_009_180205_L090_CX_01.inc'),\n",
       " PosixPath('data/bobcat/SanAnd_26528_21065_015_211117_L090_CX_01/SanAnd_26528_21065_015_211117_L090_CX_01.inc')]"
      ]
     },
     "execution_count": 4,
     "metadata": {},
     "output_type": "execute_result"
    }
   ],
   "source": [
    "inc"
   ]
  },
  {
   "cell_type": "code",
   "execution_count": 5,
   "id": "719395f0-0c27-46c3-8ffc-0ec951d4e259",
   "metadata": {},
   "outputs": [
    {
     "data": {
      "text/plain": [
       "[PosixPath('data/bobcat/SanAnd_08525_18076_003_181011_L090_CX_01/SanAnd_08525_18076_003_181011_L090_CX_01.ann'),\n",
       " PosixPath('data/bobcat/SanAnd_08525_21065_014_211117_L090_CX_01/SanAnd_08525_21065_014_211117_L090_CX_01.ann'),\n",
       " PosixPath('data/bobcat/SanAnd_08527_18001_010_180205_L090_CX_01/SanAnd_08527_18001_010_180205_L090_CX_01.ann'),\n",
       " PosixPath('data/bobcat/SanAnd_08527_20029_004_201014_L090_CX_01/SanAnd_08527_20029_004_201014_L090_CX_01.ann'),\n",
       " PosixPath('data/bobcat/SanAnd_26526_18076_002_181011_L090_CX_01/SanAnd_26526_18076_002_181011_L090_CX_01.ann'),\n",
       " PosixPath('data/bobcat/SanAnd_26526_21065_013_211117_L090_CX_01/SanAnd_26526_21065_013_211117_L090_CX_01.ann'),\n",
       " PosixPath('data/bobcat/SanAnd_26528_18001_009_180205_L090_CX_01/SanAnd_26528_18001_009_180205_L090_CX_01.ann'),\n",
       " PosixPath('data/bobcat/SanAnd_26528_21065_015_211117_L090_CX_01/SanAnd_26528_21065_015_211117_L090_CX_01.ann')]"
      ]
     },
     "execution_count": 5,
     "metadata": {},
     "output_type": "execute_result"
    }
   ],
   "source": [
    "ann"
   ]
  },
  {
   "cell_type": "code",
   "execution_count": 6,
   "id": "cdc4d0ea-a7d9-43bd-afde-0578341167b2",
   "metadata": {},
   "outputs": [],
   "source": [
    "# could be any\n",
    "pol = \"HVHV\""
   ]
  },
  {
   "cell_type": "code",
   "execution_count": 7,
   "id": "d8a10f39-a856-486d-b11e-edbf1f9c9ea8",
   "metadata": {},
   "outputs": [
    {
     "name": "stdout",
     "output_type": "stream",
     "text": [
      "UPPER LEFT LAT =  34.438977120000004\n",
      "UPPER LEFT LONG =  -119.28354192\n",
      "SAMPLES = 7317\n",
      "Lines = 57278\n",
      "PIXEL SIZE =  5.556e-05\n",
      "DATATYPE =  4\n",
      "Writing output HDR file...\n",
      "Output HDR file = data/bobcat/SanAnd_08525_18076_003_181011_L090_CX_01/SanAnd_08525_18076_003_181011_L090_CX_01.inc.hdr\n",
      "\n",
      "Thank you for using UAVSAR.py\n",
      "\n",
      "UPPER LEFT LAT =  34.441310640000005\n",
      "UPPER LEFT LONG =  -119.29748748\n",
      "SAMPLES = 7377\n",
      "Lines = 58436\n",
      "PIXEL SIZE =  5.556e-05\n",
      "DATATYPE =  4\n",
      "Writing output HDR file...\n",
      "Output HDR file = data/bobcat/SanAnd_08525_21065_014_211117_L090_CX_01/SanAnd_08525_21065_014_211117_L090_CX_01.inc.hdr\n",
      "\n",
      "Thank you for using UAVSAR.py\n",
      "\n",
      "UPPER LEFT LAT =  34.51392756\n",
      "UPPER LEFT LONG =  -119.50939332\n",
      "SAMPLES = 5869\n",
      "Lines = 31591\n",
      "PIXEL SIZE =  5.556e-05\n",
      "DATATYPE =  4\n",
      "Writing output HDR file...\n",
      "Output HDR file = data/bobcat/SanAnd_08527_18001_010_180205_L090_CX_01/SanAnd_08527_18001_010_180205_L090_CX_01.inc.hdr\n",
      "\n",
      "Thank you for using UAVSAR.py\n",
      "\n",
      "UPPER LEFT LAT =  34.59198936\n",
      "UPPER LEFT LONG =  -119.50789320000001\n",
      "SAMPLES = 7274\n",
      "Lines = 58203\n",
      "PIXEL SIZE =  5.556e-05\n",
      "DATATYPE =  4\n",
      "Writing output HDR file...\n",
      "Output HDR file = data/bobcat/SanAnd_08527_20029_004_201014_L090_CX_01/SanAnd_08527_20029_004_201014_L090_CX_01.inc.hdr\n",
      "\n",
      "Thank you for using UAVSAR.py\n",
      "\n",
      "UPPER LEFT LAT =  34.554930840000004\n",
      "UPPER LEFT LONG =  -119.29137588\n",
      "SAMPLES = 9066\n",
      "Lines = 58271\n",
      "PIXEL SIZE =  5.556e-05\n",
      "DATATYPE =  4\n",
      "Writing output HDR file...\n",
      "Output HDR file = data/bobcat/SanAnd_26526_18076_002_181011_L090_CX_01/SanAnd_26526_18076_002_181011_L090_CX_01.inc.hdr\n",
      "\n",
      "Thank you for using UAVSAR.py\n",
      "\n",
      "UPPER LEFT LAT =  34.5505416\n",
      "UPPER LEFT LONG =  -119.33332368\n",
      "SAMPLES = 9062\n",
      "Lines = 59111\n",
      "PIXEL SIZE =  5.556e-05\n",
      "DATATYPE =  4\n",
      "Writing output HDR file...\n",
      "Output HDR file = data/bobcat/SanAnd_26526_21065_013_211117_L090_CX_01/SanAnd_26526_21065_013_211117_L090_CX_01.inc.hdr\n",
      "\n",
      "Thank you for using UAVSAR.py\n",
      "\n",
      "UPPER LEFT LAT =  34.5713766\n",
      "UPPER LEFT LONG =  -119.8701444\n",
      "SAMPLES = 7300\n",
      "Lines = 34312\n",
      "PIXEL SIZE =  5.556e-05\n",
      "DATATYPE =  4\n",
      "Writing output HDR file...\n",
      "Output HDR file = data/bobcat/SanAnd_26528_18001_009_180205_L090_CX_01/SanAnd_26528_18001_009_180205_L090_CX_01.inc.hdr\n",
      "\n",
      "Thank you for using UAVSAR.py\n",
      "\n",
      "UPPER LEFT LAT =  34.567431840000005\n",
      "UPPER LEFT LONG =  -119.86425504\n",
      "SAMPLES = 7219\n",
      "Lines = 34359\n",
      "PIXEL SIZE =  5.556e-05\n",
      "DATATYPE =  4\n",
      "Writing output HDR file...\n",
      "Output HDR file = data/bobcat/SanAnd_26528_21065_015_211117_L090_CX_01/SanAnd_26528_21065_015_211117_L090_CX_01.inc.hdr\n",
      "\n",
      "Thank you for using UAVSAR.py\n",
      "\n"
     ]
    }
   ],
   "source": [
    "for i in range(len(ann)):\n",
    "    genHDRfromTXT(str(ann[i]), str(inc[i]), pol)"
   ]
  },
  {
   "cell_type": "code",
   "execution_count": null,
   "id": "6a1ca516-4971-40c8-bf52-4b140c99463d",
   "metadata": {},
   "outputs": [],
   "source": []
  }
 ],
 "metadata": {
  "kernelspec": {
   "display_name": "classification",
   "language": "python",
   "name": "python3"
  },
  "language_info": {
   "codemirror_mode": {
    "name": "ipython",
    "version": 3
   },
   "file_extension": ".py",
   "mimetype": "text/x-python",
   "name": "python",
   "nbconvert_exporter": "python",
   "pygments_lexer": "ipython3",
   "version": "3.11.6"
  }
 },
 "nbformat": 4,
 "nbformat_minor": 5
}
