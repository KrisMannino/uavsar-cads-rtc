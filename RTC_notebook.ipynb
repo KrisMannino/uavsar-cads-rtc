{
 "cells": [
  {
   "cell_type": "markdown",
   "metadata": {},
   "source": [
    "## Purpose:\n",
    "Notebook to perform radiometric terrain correction on UAVSAR data.\n",
    "\n",
    "Needs:\n",
    "- `(.mlc)` multi look cross product slant range image\n",
    "- `(.hgt)` digital elevation model (DEM) used during processing and ground projection\n",
    "- `(.ann)` annotation file\n",
    "\n",
    "Data could be downloaded from \n",
    "- [UAVSAR](https://uavsar.jpl.nasa.gov/cgi-bin/data.pl)\n",
    "- [Alaska Satellite Facility](https://search.asf.alaska.edu/#/?dataset=UAVSAR)\n",
    "\n",
    "The data used in the sample below is from the flight 'SanAnd_08525_14158_003_141023' and 'SanAnd_08525_17122_003_171102', corresponding to pre- and post- fire image for the La Tuna Fire (2017)"
   ]
  },
  {
   "cell_type": "markdown",
   "metadata": {},
   "source": [
    "Change `path_RC_python` before running the notebook"
   ]
  },
  {
   "cell_type": "code",
   "execution_count": 1,
   "metadata": {},
   "outputs": [],
   "source": [
    "# Path to the python folder of UAVSAR-Radiometric-Calibration directory\n",
    "path_RC_python = '/Users/krismannino/Code/CADS/IMPACT/uavsar-wildfire-rtc/python'"
   ]
  },
  {
   "cell_type": "code",
   "execution_count": 2,
   "metadata": {},
   "outputs": [],
   "source": [
    "import sys\n",
    "sys.path.append(path_RC_python)\n",
    "from radiocal import batchcal\n",
    "import radiocal\n",
    "import os\n",
    "from pathlib import Path"
   ]
  },
  {
   "cell_type": "code",
   "execution_count": 3,
   "metadata": {},
   "outputs": [],
   "source": [
    "# Path to the folder containing the radiometric calibration programs\n",
    "# (e.g., uavsar_calib_veg_v2 and geocode_uavsar)\n",
    "programpath = '/Users/krismannino/Code/CADS/IMPACT/uavsar-wildfire-rtc/bin/'\n",
    "programpath = os.path.abspath(programpath)\n",
    "\n",
    "# Calibration program:\n",
    "calibprog = programpath+'/uavsar_calib'\n",
    "\n",
    "# Geocoding program:\n",
    "geocodeprog = programpath+'/uavsar_geocode'"
   ]
  },
  {
   "cell_type": "code",
   "execution_count": 4,
   "metadata": {},
   "outputs": [],
   "source": [
    "def rtc(dir,root_name, pol):\n",
    "\n",
    "    # stores working directory\n",
    "    current_working_directory = os.getcwd()\n",
    "    #current_working_directory = dir\n",
    "\n",
    "    # apply RTC\n",
    "    sardata = [root_name]\n",
    "    print(sardata)##\n",
    "    for num in range(0,len(sardata)):\n",
    "        print(num)\n",
    "        print(dir)\n",
    "        radiocal.batchcal(dir,\n",
    "                          programpath,\n",
    "                          calibprog,\n",
    "                          geocodeprog,\n",
    "                          None,\n",
    "                          calname='rtc', # change calname if a different ending name is wanted  \n",
    "                          docorrectionflag=True, \n",
    "                          zerodemflag=False,\n",
    "                          createmaskflag=False, \n",
    "                          createlookflag=True, \n",
    "                          createslopeflag=True, # Changed\n",
    "                          overwriteflag=True, \n",
    "                          postprocessflag=False, \n",
    "                          pol=pol, \n",
    "                          scene=sardata[num])\n",
    "        \n",
    "    # change back working directory \n",
    "    os.chdir(current_working_directory)"
   ]
  },
  {
   "cell_type": "markdown",
   "metadata": {},
   "source": [
    "### Change the following variables before each run:\n",
    "- `pol` : polarizations to correct\n",
    "- `data_path`\n",
    "- `root_name`"
   ]
  },
  {
   "cell_type": "code",
   "execution_count": 5,
   "metadata": {},
   "outputs": [
    {
     "name": "stdout",
     "output_type": "stream",
     "text": [
      "/Volumes/BlackT7/bobcat_flight_paths/SanAnd_08525_18076_003_181011_L090_CX_01\n",
      "/Volumes/BlackT7/bobcat_flight_paths/SanAnd_08525_21065_014_211117_L090_CX_01\n",
      "/Volumes/BlackT7/bobcat_flight_paths/SanAnd_08527_18001_010_180205_L090_CX_01\n",
      "/Volumes/BlackT7/bobcat_flight_paths/SanAnd_08527_20029_004_201014_L090_CX_01\n",
      "/Volumes/BlackT7/bobcat_flight_paths/SanAnd_08525_20026_016_200918_L090_CX_01\n",
      "/Volumes/BlackT7/bobcat_flight_paths/SanAnd_08525_20029_006_201015_L090_CX_01\n",
      "/Volumes/BlackT7/bobcat_flight_paths/SanAnd_08525_21041_007_210526_L090_CX_01\n",
      "/Volumes/BlackT7/bobcat_flight_paths/SanAnd_08527_20026_014_200918_L090_CX_01\n",
      "/Volumes/BlackT7/bobcat_flight_paths/SanAnd_26526_21065_013_211117_L090_CX_01\n",
      "/Volumes/BlackT7/bobcat_flight_paths/SanAnd_26526_18076_002_181011_L090_CX_01\n"
     ]
    }
   ],
   "source": [
    "# 0-HHHH, 1-VVVV, 2-HVHV; ex: [0,2] for HHHH,HVHV \n",
    "pol = [2] \n",
    "\n",
    "# Path to data folders.\n",
    "# Each folder should contain the .mlc, .hgt, and .ann files associated with the flight\n",
    "##data_folder = '/mnt/karenan/uavsar_slumps/grd_folders/'\n",
    "data_folder = '/Volumes/BlackT7/bobcat_flight_paths'\n",
    "\n",
    "root, dirs, files = next(os.walk(data_folder, topdown=True))\n",
    "dirs = [ os.path.join(root, d) for d in dirs ]\n",
    "# print(dirs)\n",
    "print(*dirs, sep=\"\\n\")\n",
    "\n",
    "# # Path to the UAVSAR data files (one UAVSAR flight at a time)\n",
    "# data_path = '/Volumes/BlueT7/uavsar_wildfire_paths/Bobcat/SanAnd_26528_18001_009_180205_L090_CX_01'\n",
    "# datapath = os.path.abspath(data_path)\n",
    "\n",
    "# # Root names for the UAVSAR data\n",
    "# root_name = 'SanAnd_26528_18001_009_180205_L090_CX_01'"
   ]
  },
  {
   "cell_type": "code",
   "execution_count": 6,
   "metadata": {},
   "outputs": [
    {
     "name": "stdout",
     "output_type": "stream",
     "text": [
      "/Volumes/BlackT7/bobcat_flight_paths/SanAnd_26526_21065_013_211117_L090_CX_01\n",
      "/Volumes/BlackT7/bobcat_flight_paths/SanAnd_26526_18076_002_181011_L090_CX_01\n"
     ]
    }
   ],
   "source": [
    "# Adjust this each time for unvwanted directories\n",
    "\n",
    "cut_words = [\"rtc_corrected_output\",\n",
    "             \"08527\",\n",
    "             \"08525\"\n",
    "            ]\n",
    "\n",
    "cut_dirs = [d for d in dirs if not any(cut_word in d for cut_word in cut_words)]\n",
    "# print(cut_dirs)\n",
    "print(*cut_dirs, sep=\"\\n\")"
   ]
  },
  {
   "cell_type": "code",
   "execution_count": 7,
   "metadata": {},
   "outputs": [
    {
     "name": "stdout",
     "output_type": "stream",
     "text": [
      "/Volumes/BlackT7/bobcat_flight_paths/SanAnd_26526_21065_013_211117_L090_CX_01\n",
      "/Volumes/BlackT7/bobcat_flight_paths/SanAnd_26526_18076_002_181011_L090_CX_01\n"
     ]
    }
   ],
   "source": [
    "dirs = cut_dirs\n",
    "print(*dirs, sep=\"\\n\")"
   ]
  },
  {
   "cell_type": "code",
   "execution_count": 8,
   "metadata": {
    "jupyter": {
     "source_hidden": true
    }
   },
   "outputs": [],
   "source": [
    "# # Previous cell contain information for the pre-fire image. Now repeat for the post-fire image. \n",
    "# data_path = '/Volumes/BlueT7/uavsar_wildfire_paths/Bobcat/SanAnd_08527_20029_004_201014_L090_CX_01'\n",
    "# datapath = os.path.abspath(data_path)\n",
    "\n",
    "# root_name = 'SanAnd_08527_20029_004_201014_L090_CX_01'"
   ]
  },
  {
   "cell_type": "markdown",
   "metadata": {},
   "source": [
    "### Run the following after changing the variables above"
   ]
  },
  {
   "cell_type": "code",
   "execution_count": 9,
   "metadata": {
    "scrolled": true
   },
   "outputs": [
    {
     "name": "stdout",
     "output_type": "stream",
     "text": [
      "/Volumes/BlackT7/bobcat_flight_paths/SanAnd_26526_21065_013_211117_L090_CX_01\n",
      "['SanAnd_26526_21065_013_211117']\n",
      "0\n",
      "/Volumes/BlackT7/bobcat_flight_paths/SanAnd_26526_21065_013_211117_L090_CX_01\n",
      "SanAnd_26526_21065_013_211117_L090_CX_01.ann\n",
      "Calibrating for polarization HVHV\n",
      "\n",
      "UAVSAR radiometric calibration software designed and written by Marc Simard and Bryan V. Riel.\n",
      "\n",
      "\n",
      "Copyright 2010, by the California Institute of Technology. ALL RIGHTS RESERVED. \n",
      "\n",
      "United States Government Sponsorship acknowledged. \n",
      "\n",
      "Any commercial use must be negotiated with the Office of Technology Transfer at the California Institute of Technology.  This software may be subject to U.S. export control laws. By accepting this software, the user agrees to comply with all applicable U.S. export laws and regulations. User has the responsibility to obtain export licenses, or other export authority as may be required before exporting such information to foreign countries or providing access to foreign persons.\n",
      "\n",
      "\n",
      "-----------------------------------------------------------------------\n",
      "\n",
      "Performing facet model correction......\n",
      "\n",
      "Opened input intensity file: SanAnd_26526_21065_013_211117_L090HVHV_CX_01.mlc\n",
      "Opened DEM file: SanAnd_26526_21065_013_211117_L090_CX_01.hgt\n",
      "Created output look up table: geomap_uavsar.trans\n",
      "Created output corrected intensity file: SanAnd_26526_21065_013_211117_HVHV_rtc.mlc\n",
      "Created output look angle file: look_temp\n",
      "Created output slope angle file: slope_temp\n",
      "Created output validity mask file: mask_temp\n",
      "\n",
      "Processed line 0 of 9062\n",
      "Processed line 1000 of 9062\n",
      "Processed line 2000 of 9062\n",
      "Processed line 3000 of 9062\n",
      "Processed line 4000 of 9062\n",
      "Processed line 5000 of 9062\n",
      "Processed line 6000 of 9062\n",
      "Processed line 7000 of 9062\n",
      "Processed line 8000 of 9062\n",
      "Processed line 9000 of 9062\n",
      "\n",
      "Correcting input intensity image using area correction.....Done\n",
      "\n",
      "Elapsed time: 915 seconds\n",
      "Geocoding intensity files from RDC to MAP coordinates\n",
      "Input file: SanAnd_26526_21065_013_211117_HVHV_rtc.mlc\n",
      "Output file: SanAnd_26526_21065_013_211117_HVHV_rtc.grd\n",
      "\n",
      "Processed line 0 of 9062\n",
      "Processed line 1000 of 9062\n",
      "Processed line 2000 of 9062\n",
      "Processed line 3000 of 9062\n",
      "Processed line 4000 of 9062\n",
      "Processed line 5000 of 9062\n",
      "Processed line 6000 of 9062\n",
      "Processed line 7000 of 9062\n",
      "Processed line 8000 of 9062\n",
      "Processed line 9000 of 9062\n",
      "\n",
      "Done\n",
      "SAMPLES = 9062\n",
      "LINES = 59111\n",
      "UPPER LEFT LAT = 34.5505416\n",
      "UPPER LEFT LONG = -119.33332368\n",
      "PIXEL LAT SIZE = 5.556e-05\n",
      "PIXEL LONG SIZE = 5.556e-05\n",
      "DATATYPE = 4\n",
      "Writing output HDR file...\n",
      "Output HDR file = SanAnd_26526_21065_013_211117_HVHV_rtc.grd.hdr\n",
      "\n",
      "Thank you for using UAVSAR.py\n",
      "\n",
      "\n",
      "SAMPLES = 9062\n",
      "LINES = 59111\n",
      "UPPER LEFT LAT = 34.5505416\n",
      "UPPER LEFT LONG = -119.33332368\n",
      "PIXEL LAT SIZE = 5.556e-05\n",
      "PIXEL LONG SIZE = 5.556e-05\n",
      "DATATYPE = 4\n",
      "Writing output HDR file...\n",
      "Output HDR file = SanAnd_26526_21065_013_211117_slope.grd.hdr\n",
      "\n",
      "Thank you for using UAVSAR.py\n",
      "\n",
      "\n",
      "SAMPLES = 9062\n",
      "LINES = 59111\n",
      "UPPER LEFT LAT = 34.5505416\n",
      "UPPER LEFT LONG = -119.33332368\n",
      "PIXEL LAT SIZE = 5.556e-05\n",
      "PIXEL LONG SIZE = 5.556e-05\n",
      "DATATYPE = 4\n",
      "Writing output HDR file...\n",
      "Output HDR file = SanAnd_26526_21065_013_211117_look.grd.hdr\n",
      "\n",
      "Thank you for using UAVSAR.py\n",
      "\n",
      "/Volumes/BlackT7/bobcat_flight_paths/SanAnd_26526_18076_002_181011_L090_CX_01\n",
      "['SanAnd_26526_18076_002_181011']\n",
      "0\n",
      "/Volumes/BlackT7/bobcat_flight_paths/SanAnd_26526_18076_002_181011_L090_CX_01\n",
      "SanAnd_26526_18076_002_181011_L090_CX_01.ann\n",
      "Calibrating for polarization HVHV\n",
      "\n",
      "UAVSAR radiometric calibration software designed and written by Marc Simard and Bryan V. Riel.\n",
      "\n",
      "\n",
      "Copyright 2010, by the California Institute of Technology. ALL RIGHTS RESERVED. \n",
      "\n",
      "United States Government Sponsorship acknowledged. \n",
      "\n",
      "Any commercial use must be negotiated with the Office of Technology Transfer at the California Institute of Technology.  This software may be subject to U.S. export control laws. By accepting this software, the user agrees to comply with all applicable U.S. export laws and regulations. User has the responsibility to obtain export licenses, or other export authority as may be required before exporting such information to foreign countries or providing access to foreign persons.\n",
      "\n",
      "\n",
      "-----------------------------------------------------------------------\n",
      "\n",
      "Performing facet model correction......\n",
      "\n",
      "Opened input intensity file: SanAnd_26526_18076_002_181011_L090HVHV_CX_01.mlc\n",
      "Opened DEM file: SanAnd_26526_18076_002_181011_L090_CX_01.hgt\n",
      "Created output look up table: geomap_uavsar.trans\n",
      "Created output corrected intensity file: SanAnd_26526_18076_002_181011_HVHV_rtc.mlc\n",
      "Created output look angle file: look_temp\n",
      "Created output slope angle file: slope_temp\n",
      "Created output validity mask file: mask_temp\n",
      "\n",
      "Processed line 0 of 9066\n",
      "Processed line 1000 of 9066\n",
      "Processed line 2000 of 9066\n",
      "Processed line 3000 of 9066\n",
      "Processed line 4000 of 9066\n",
      "Processed line 5000 of 9066\n",
      "Processed line 6000 of 9066\n",
      "Processed line 7000 of 9066\n",
      "Processed line 8000 of 9066\n",
      "Processed line 9000 of 9066\n",
      "\n",
      "Correcting input intensity image using area correction.....Done\n",
      "\n",
      "Elapsed time: 727 seconds\n",
      "Geocoding intensity files from RDC to MAP coordinates\n",
      "Input file: SanAnd_26526_18076_002_181011_HVHV_rtc.mlc\n",
      "Output file: SanAnd_26526_18076_002_181011_HVHV_rtc.grd\n",
      "\n",
      "Processed line 0 of 9066\n",
      "Processed line 1000 of 9066\n",
      "Processed line 2000 of 9066\n",
      "Processed line 3000 of 9066\n",
      "Processed line 4000 of 9066\n",
      "Processed line 5000 of 9066\n",
      "Processed line 6000 of 9066\n",
      "Processed line 7000 of 9066\n",
      "Processed line 8000 of 9066\n",
      "Processed line 9000 of 9066\n",
      "\n",
      "Done\n",
      "SAMPLES = 9066\n",
      "LINES = 58271\n",
      "UPPER LEFT LAT = 34.554930840000004\n",
      "UPPER LEFT LONG = -119.29137588\n",
      "PIXEL LAT SIZE = 5.556e-05\n",
      "PIXEL LONG SIZE = 5.556e-05\n",
      "DATATYPE = 4\n",
      "Writing output HDR file...\n",
      "Output HDR file = SanAnd_26526_18076_002_181011_HVHV_rtc.grd.hdr\n",
      "\n",
      "Thank you for using UAVSAR.py\n",
      "\n",
      "\n",
      "SAMPLES = 9066\n",
      "LINES = 58271\n",
      "UPPER LEFT LAT = 34.554930840000004\n",
      "UPPER LEFT LONG = -119.29137588\n",
      "PIXEL LAT SIZE = 5.556e-05\n",
      "PIXEL LONG SIZE = 5.556e-05\n",
      "DATATYPE = 4\n",
      "Writing output HDR file...\n",
      "Output HDR file = SanAnd_26526_18076_002_181011_slope.grd.hdr\n",
      "\n",
      "Thank you for using UAVSAR.py\n",
      "\n",
      "\n",
      "SAMPLES = 9066\n",
      "LINES = 58271\n",
      "UPPER LEFT LAT = 34.554930840000004\n",
      "UPPER LEFT LONG = -119.29137588\n",
      "PIXEL LAT SIZE = 5.556e-05\n",
      "PIXEL LONG SIZE = 5.556e-05\n",
      "DATATYPE = 4\n",
      "Writing output HDR file...\n",
      "Output HDR file = SanAnd_26526_18076_002_181011_look.grd.hdr\n",
      "\n",
      "Thank you for using UAVSAR.py\n",
      "\n",
      "All folders have completed RTC.\n"
     ]
    }
   ],
   "source": [
    "for d in dirs:\n",
    "    print(d)\n",
    "    split_path = os.path.split(d)\n",
    "    root_name = split_path[1].split('_L090')[0]\n",
    "    rtc(d, root_name, pol)\n",
    "\n",
    "print (\"All folders have completed RTC.\")"
   ]
  },
  {
   "cell_type": "code",
   "execution_count": null,
   "metadata": {},
   "outputs": [],
   "source": []
  }
 ],
 "metadata": {
  "kernelspec": {
   "display_name": "rtc",
   "language": "python",
   "name": "rtc"
  },
  "language_info": {
   "codemirror_mode": {
    "name": "ipython",
    "version": 3
   },
   "file_extension": ".py",
   "mimetype": "text/x-python",
   "name": "python",
   "nbconvert_exporter": "python",
   "pygments_lexer": "ipython3",
   "version": "3.12.7"
  }
 },
 "nbformat": 4,
 "nbformat_minor": 4
}
